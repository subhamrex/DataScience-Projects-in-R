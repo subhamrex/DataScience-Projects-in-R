{
 "cells": [
  {
   "cell_type": "code",
   "execution_count": 7,
   "metadata": {},
   "outputs": [],
   "source": [
    "library(tidyverse)"
   ]
  },
  {
   "cell_type": "code",
   "execution_count": 8,
   "metadata": {},
   "outputs": [],
   "source": [
    "data <- read.csv(\"diabetes.csv\")"
   ]
  },
  {
   "cell_type": "code",
   "execution_count": 10,
   "metadata": {},
   "outputs": [
    {
     "data": {
      "text/html": [
       "<table class=\"dataframe\">\n",
       "<caption>A data.frame: 6 × 9</caption>\n",
       "<thead>\n",
       "\t<tr><th></th><th scope=col>Pregnancies</th><th scope=col>Glucose</th><th scope=col>BloodPressure</th><th scope=col>SkinThickness</th><th scope=col>Insulin</th><th scope=col>BMI</th><th scope=col>DiabetesPedigreeFunction</th><th scope=col>Age</th><th scope=col>Outcome</th></tr>\n",
       "\t<tr><th></th><th scope=col>&lt;int&gt;</th><th scope=col>&lt;int&gt;</th><th scope=col>&lt;int&gt;</th><th scope=col>&lt;int&gt;</th><th scope=col>&lt;int&gt;</th><th scope=col>&lt;dbl&gt;</th><th scope=col>&lt;dbl&gt;</th><th scope=col>&lt;int&gt;</th><th scope=col>&lt;int&gt;</th></tr>\n",
       "</thead>\n",
       "<tbody>\n",
       "\t<tr><th scope=row>1</th><td>6</td><td>148</td><td>72</td><td>35</td><td>  0</td><td>33.6</td><td>0.627</td><td>50</td><td>1</td></tr>\n",
       "\t<tr><th scope=row>2</th><td>1</td><td> 85</td><td>66</td><td>29</td><td>  0</td><td>26.6</td><td>0.351</td><td>31</td><td>0</td></tr>\n",
       "\t<tr><th scope=row>3</th><td>8</td><td>183</td><td>64</td><td> 0</td><td>  0</td><td>23.3</td><td>0.672</td><td>32</td><td>1</td></tr>\n",
       "\t<tr><th scope=row>4</th><td>1</td><td> 89</td><td>66</td><td>23</td><td> 94</td><td>28.1</td><td>0.167</td><td>21</td><td>0</td></tr>\n",
       "\t<tr><th scope=row>5</th><td>0</td><td>137</td><td>40</td><td>35</td><td>168</td><td>43.1</td><td>2.288</td><td>33</td><td>1</td></tr>\n",
       "\t<tr><th scope=row>6</th><td>5</td><td>116</td><td>74</td><td> 0</td><td>  0</td><td>25.6</td><td>0.201</td><td>30</td><td>0</td></tr>\n",
       "</tbody>\n",
       "</table>\n"
      ],
      "text/latex": [
       "A data.frame: 6 × 9\n",
       "\\begin{tabular}{r|lllllllll}\n",
       "  & Pregnancies & Glucose & BloodPressure & SkinThickness & Insulin & BMI & DiabetesPedigreeFunction & Age & Outcome\\\\\n",
       "  & <int> & <int> & <int> & <int> & <int> & <dbl> & <dbl> & <int> & <int>\\\\\n",
       "\\hline\n",
       "\t1 & 6 & 148 & 72 & 35 &   0 & 33.6 & 0.627 & 50 & 1\\\\\n",
       "\t2 & 1 &  85 & 66 & 29 &   0 & 26.6 & 0.351 & 31 & 0\\\\\n",
       "\t3 & 8 & 183 & 64 &  0 &   0 & 23.3 & 0.672 & 32 & 1\\\\\n",
       "\t4 & 1 &  89 & 66 & 23 &  94 & 28.1 & 0.167 & 21 & 0\\\\\n",
       "\t5 & 0 & 137 & 40 & 35 & 168 & 43.1 & 2.288 & 33 & 1\\\\\n",
       "\t6 & 5 & 116 & 74 &  0 &   0 & 25.6 & 0.201 & 30 & 0\\\\\n",
       "\\end{tabular}\n"
      ],
      "text/markdown": [
       "\n",
       "A data.frame: 6 × 9\n",
       "\n",
       "| <!--/--> | Pregnancies &lt;int&gt; | Glucose &lt;int&gt; | BloodPressure &lt;int&gt; | SkinThickness &lt;int&gt; | Insulin &lt;int&gt; | BMI &lt;dbl&gt; | DiabetesPedigreeFunction &lt;dbl&gt; | Age &lt;int&gt; | Outcome &lt;int&gt; |\n",
       "|---|---|---|---|---|---|---|---|---|---|\n",
       "| 1 | 6 | 148 | 72 | 35 |   0 | 33.6 | 0.627 | 50 | 1 |\n",
       "| 2 | 1 |  85 | 66 | 29 |   0 | 26.6 | 0.351 | 31 | 0 |\n",
       "| 3 | 8 | 183 | 64 |  0 |   0 | 23.3 | 0.672 | 32 | 1 |\n",
       "| 4 | 1 |  89 | 66 | 23 |  94 | 28.1 | 0.167 | 21 | 0 |\n",
       "| 5 | 0 | 137 | 40 | 35 | 168 | 43.1 | 2.288 | 33 | 1 |\n",
       "| 6 | 5 | 116 | 74 |  0 |   0 | 25.6 | 0.201 | 30 | 0 |\n",
       "\n"
      ],
      "text/plain": [
       "  Pregnancies Glucose BloodPressure SkinThickness Insulin BMI \n",
       "1 6           148     72            35              0     33.6\n",
       "2 1            85     66            29              0     26.6\n",
       "3 8           183     64             0              0     23.3\n",
       "4 1            89     66            23             94     28.1\n",
       "5 0           137     40            35            168     43.1\n",
       "6 5           116     74             0              0     25.6\n",
       "  DiabetesPedigreeFunction Age Outcome\n",
       "1 0.627                    50  1      \n",
       "2 0.351                    31  0      \n",
       "3 0.672                    32  1      \n",
       "4 0.167                    21  0      \n",
       "5 2.288                    33  1      \n",
       "6 0.201                    30  0      "
      ]
     },
     "metadata": {},
     "output_type": "display_data"
    }
   ],
   "source": [
    "head(data)"
   ]
  },
  {
   "cell_type": "code",
   "execution_count": 11,
   "metadata": {},
   "outputs": [
    {
     "name": "stdout",
     "output_type": "stream",
     "text": [
      "Rows: 768\n",
      "Columns: 9\n",
      "$ Pregnancies              \u001b[3m\u001b[90m<int>\u001b[39m\u001b[23m 6, 1, 8, 1, 0, 5, 3, 10, 2, 8, 4, 10, 10, 1, ~\n",
      "$ Glucose                  \u001b[3m\u001b[90m<int>\u001b[39m\u001b[23m 148, 85, 183, 89, 137, 116, 78, 115, 197, 125~\n",
      "$ BloodPressure            \u001b[3m\u001b[90m<int>\u001b[39m\u001b[23m 72, 66, 64, 66, 40, 74, 50, 0, 70, 96, 92, 74~\n",
      "$ SkinThickness            \u001b[3m\u001b[90m<int>\u001b[39m\u001b[23m 35, 29, 0, 23, 35, 0, 32, 0, 45, 0, 0, 0, 0, ~\n",
      "$ Insulin                  \u001b[3m\u001b[90m<int>\u001b[39m\u001b[23m 0, 0, 0, 94, 168, 0, 88, 0, 543, 0, 0, 0, 0, ~\n",
      "$ BMI                      \u001b[3m\u001b[90m<dbl>\u001b[39m\u001b[23m 33.6, 26.6, 23.3, 28.1, 43.1, 25.6, 31.0, 35.~\n",
      "$ DiabetesPedigreeFunction \u001b[3m\u001b[90m<dbl>\u001b[39m\u001b[23m 0.627, 0.351, 0.672, 0.167, 2.288, 0.201, 0.2~\n",
      "$ Age                      \u001b[3m\u001b[90m<int>\u001b[39m\u001b[23m 50, 31, 32, 21, 33, 30, 26, 29, 53, 54, 30, 3~\n",
      "$ Outcome                  \u001b[3m\u001b[90m<int>\u001b[39m\u001b[23m 1, 0, 1, 0, 1, 0, 1, 0, 1, 1, 0, 1, 0, 1, 1, ~\n"
     ]
    }
   ],
   "source": [
    "glimpse(data)"
   ]
  },
  {
   "cell_type": "code",
   "execution_count": 14,
   "metadata": {},
   "outputs": [
    {
     "data": {
      "text/html": [
       "<style>\n",
       ".list-inline {list-style: none; margin:0; padding: 0}\n",
       ".list-inline>li {display: inline-block}\n",
       ".list-inline>li:not(:last-child)::after {content: \"\\00b7\"; padding: 0 .5ex}\n",
       "</style>\n",
       "<ol class=list-inline><li>'Pregnancies'</li><li>'Glucose'</li><li>'BloodPressure'</li><li>'SkinThickness'</li><li>'Insulin'</li><li>'BMI'</li><li>'DiabetesPedigreeFunction'</li><li>'Age'</li><li>'Outcome'</li></ol>\n"
      ],
      "text/latex": [
       "\\begin{enumerate*}\n",
       "\\item 'Pregnancies'\n",
       "\\item 'Glucose'\n",
       "\\item 'BloodPressure'\n",
       "\\item 'SkinThickness'\n",
       "\\item 'Insulin'\n",
       "\\item 'BMI'\n",
       "\\item 'DiabetesPedigreeFunction'\n",
       "\\item 'Age'\n",
       "\\item 'Outcome'\n",
       "\\end{enumerate*}\n"
      ],
      "text/markdown": [
       "1. 'Pregnancies'\n",
       "2. 'Glucose'\n",
       "3. 'BloodPressure'\n",
       "4. 'SkinThickness'\n",
       "5. 'Insulin'\n",
       "6. 'BMI'\n",
       "7. 'DiabetesPedigreeFunction'\n",
       "8. 'Age'\n",
       "9. 'Outcome'\n",
       "\n",
       "\n"
      ],
      "text/plain": [
       "[1] \"Pregnancies\"              \"Glucose\"                 \n",
       "[3] \"BloodPressure\"            \"SkinThickness\"           \n",
       "[5] \"Insulin\"                  \"BMI\"                     \n",
       "[7] \"DiabetesPedigreeFunction\" \"Age\"                     \n",
       "[9] \"Outcome\"                 "
      ]
     },
     "metadata": {},
     "output_type": "display_data"
    }
   ],
   "source": [
    "colnames(data)"
   ]
  },
  {
   "cell_type": "code",
   "execution_count": 15,
   "metadata": {},
   "outputs": [
    {
     "data": {
      "text/plain": [
       "  Pregnancies        Glucose      BloodPressure    SkinThickness  \n",
       " Min.   : 0.000   Min.   :  0.0   Min.   :  0.00   Min.   : 0.00  \n",
       " 1st Qu.: 1.000   1st Qu.: 99.0   1st Qu.: 62.00   1st Qu.: 0.00  \n",
       " Median : 3.000   Median :117.0   Median : 72.00   Median :23.00  \n",
       " Mean   : 3.845   Mean   :120.9   Mean   : 69.11   Mean   :20.54  \n",
       " 3rd Qu.: 6.000   3rd Qu.:140.2   3rd Qu.: 80.00   3rd Qu.:32.00  \n",
       " Max.   :17.000   Max.   :199.0   Max.   :122.00   Max.   :99.00  \n",
       "    Insulin           BMI        DiabetesPedigreeFunction      Age       \n",
       " Min.   :  0.0   Min.   : 0.00   Min.   :0.0780           Min.   :21.00  \n",
       " 1st Qu.:  0.0   1st Qu.:27.30   1st Qu.:0.2437           1st Qu.:24.00  \n",
       " Median : 30.5   Median :32.00   Median :0.3725           Median :29.00  \n",
       " Mean   : 79.8   Mean   :31.99   Mean   :0.4719           Mean   :33.24  \n",
       " 3rd Qu.:127.2   3rd Qu.:36.60   3rd Qu.:0.6262           3rd Qu.:41.00  \n",
       " Max.   :846.0   Max.   :67.10   Max.   :2.4200           Max.   :81.00  \n",
       "    Outcome     \n",
       " Min.   :0.000  \n",
       " 1st Qu.:0.000  \n",
       " Median :0.000  \n",
       " Mean   :0.349  \n",
       " 3rd Qu.:1.000  \n",
       " Max.   :1.000  "
      ]
     },
     "metadata": {},
     "output_type": "display_data"
    }
   ],
   "source": [
    "summary(data)"
   ]
  },
  {
   "cell_type": "markdown",
   "metadata": {},
   "source": [
    "## Data visualization"
   ]
  },
  {
   "cell_type": "code",
   "execution_count": 31,
   "metadata": {},
   "outputs": [
    {
     "data": {
      "image/png": "[encoded data removed]",
      "text/plain": [
       "plot without title"
      ]
     },
     "metadata": {
      "image/png": {
       "height": 420,
       "width": 420
      }
     },
     "output_type": "display_data"
    }
   ],
   "source": [
    "# Bar Plot for Outcome\n",
    "ggplot(data,aes(x=Outcome,fill=Outcome))+\n",
    "    geom_bar()+\n",
    "    xlab(\"Diabetes Prediction\")+\n",
    "    ylab(\"count\")+\n",
    "    ggtitle(\"Presence & Absence of Diabates\")+\n",
    "    scale_fill_discrete(name=\"Diabetes\",label= c(\"Absence\",\"Presence\"))"
   ]
  },
  {
   "cell_type": "code",
   "execution_count": 32,
   "metadata": {},
   "outputs": [
    {
     "data": {
      "image/png": "[encoded data removed]",
      "text/plain": [
       "plot without title"
      ]
     },
     "metadata": {
      "image/png": {
       "height": 420,
       "width": 420
      }
     },
     "output_type": "display_data"
    }
   ],
   "source": [
    "# Count the frequency of the values of age\n",
    "\n",
    "data %>%\n",
    "    group_by(Age) %>%\n",
    "    count() %>%\n",
    "    filter(n>10) %>%\n",
    "    ggplot()+\n",
    "    geom_col(aes(Age,n),fill=\"blue\")+\n",
    "    ggtitle(\"Age Analysis\")+\n",
    "    xlab(\"Age\")+\n",
    "    ylab(\"Count\")"
   ]
  },
  {
   "cell_type": "code",
   "execution_count": 52,
   "metadata": {},
   "outputs": [
    {
     "data": {
      "text/plain": [
       "<ggproto object: Class FacetGrid, Facet, gg>\n",
       "    compute_layout: function\n",
       "    draw_back: function\n",
       "    draw_front: function\n",
       "    draw_labels: function\n",
       "    draw_panels: function\n",
       "    finish_data: function\n",
       "    init_scales: function\n",
       "    map_data: function\n",
       "    params: list\n",
       "    setup_data: function\n",
       "    setup_params: function\n",
       "    shrink: TRUE\n",
       "    train_scales: function\n",
       "    vars: function\n",
       "    super:  <ggproto object: Class FacetGrid, Facet, gg>"
      ]
     },
     "metadata": {},
     "output_type": "display_data"
    },
    {
     "data": {
      "image/png": "[encoded data removed]",
      "text/plain": [
       "plot without title"
      ]
     },
     "metadata": {
      "image/png": {
       "height": 420,
       "width": 420
      }
     },
     "output_type": "display_data"
    }
   ],
   "source": [
    "# boxplot of Insulin and blood pressure data\n",
    "data %>%\n",
    "    ggplot(aes(x=Insulin,y=BloodPressure,group = 1))+\n",
    "    geom_boxplot(fill='orange')+\n",
    "    xlab('Insulin')+\n",
    "    ylab('BloodPressure')\n",
    "    facet_grid(~Glucose)"
   ]
  },
  {
   "cell_type": "markdown",
   "metadata": {},
   "source": [
    "## Data Transformation"
   ]
  },
  {
   "cell_type": "code",
   "execution_count": 39,
   "metadata": {},
   "outputs": [
    {
     "data": {
      "text/plain": [
       "  Pregnancies        Glucose      BloodPressure    SkinThickness  \n",
       " Min.   : 0.000   Min.   :  0.0   Min.   :  0.00   Min.   : 0.00  \n",
       " 1st Qu.: 1.000   1st Qu.: 99.0   1st Qu.: 62.00   1st Qu.: 0.00  \n",
       " Median : 3.000   Median :117.0   Median : 72.00   Median :23.00  \n",
       " Mean   : 3.845   Mean   :120.9   Mean   : 69.11   Mean   :20.54  \n",
       " 3rd Qu.: 6.000   3rd Qu.:140.2   3rd Qu.: 80.00   3rd Qu.:32.00  \n",
       " Max.   :17.000   Max.   :199.0   Max.   :122.00   Max.   :99.00  \n",
       "    Insulin           BMI        DiabetesPedigreeFunction      Age       \n",
       " Min.   :  0.0   Min.   : 0.00   Min.   :0.0780           Min.   :21.00  \n",
       " 1st Qu.:  0.0   1st Qu.:27.30   1st Qu.:0.2437           1st Qu.:24.00  \n",
       " Median : 30.5   Median :32.00   Median :0.3725           Median :29.00  \n",
       " Mean   : 79.8   Mean   :31.99   Mean   :0.4719           Mean   :33.24  \n",
       " 3rd Qu.:127.2   3rd Qu.:36.60   3rd Qu.:0.6262           3rd Qu.:41.00  \n",
       " Max.   :846.0   Max.   :67.10   Max.   :2.4200           Max.   :81.00  \n",
       " Outcome\n",
       " 0:500  \n",
       " 1:268  \n",
       "        \n",
       "        \n",
       "        \n",
       "        "
      ]
     },
     "metadata": {},
     "output_type": "display_data"
    }
   ],
   "source": [
    "data$Outcome <- as.factor(data$Outcome)\n",
    "summary(data)"
   ]
  },
  {
   "cell_type": "code",
   "execution_count": 40,
   "metadata": {},
   "outputs": [],
   "source": [
    "library(caret) #package of Machine learning \n",
    "pre_process_data <- preProcess(data,method='range')\n",
    "train_data <- predict(pre_process_data,newdata = data)\n",
    "levels(train_data$Outcome) <- c(\"NO\",\"YES\")\n"
   ]
  },
  {
   "cell_type": "code",
   "execution_count": 41,
   "metadata": {},
   "outputs": [
    {
     "data": {
      "text/html": [
       "<table class=\"dataframe\">\n",
       "<caption>A data.frame: 6 × 9</caption>\n",
       "<thead>\n",
       "\t<tr><th></th><th scope=col>Pregnancies</th><th scope=col>Glucose</th><th scope=col>BloodPressure</th><th scope=col>SkinThickness</th><th scope=col>Insulin</th><th scope=col>BMI</th><th scope=col>DiabetesPedigreeFunction</th><th scope=col>Age</th><th scope=col>Outcome</th></tr>\n",
       "\t<tr><th></th><th scope=col>&lt;dbl&gt;</th><th scope=col>&lt;dbl&gt;</th><th scope=col>&lt;dbl&gt;</th><th scope=col>&lt;dbl&gt;</th><th scope=col>&lt;dbl&gt;</th><th scope=col>&lt;dbl&gt;</th><th scope=col>&lt;dbl&gt;</th><th scope=col>&lt;dbl&gt;</th><th scope=col>&lt;fct&gt;</th></tr>\n",
       "</thead>\n",
       "<tbody>\n",
       "\t<tr><th scope=row>1</th><td>0.35294118</td><td>0.7437186</td><td>0.5901639</td><td>0.3535354</td><td>0.0000000</td><td>0.5007452</td><td>0.23441503</td><td>0.4833333</td><td>YES</td></tr>\n",
       "\t<tr><th scope=row>2</th><td>0.05882353</td><td>0.4271357</td><td>0.5409836</td><td>0.2929293</td><td>0.0000000</td><td>0.3964232</td><td>0.11656704</td><td>0.1666667</td><td>NO </td></tr>\n",
       "\t<tr><th scope=row>3</th><td>0.47058824</td><td>0.9195980</td><td>0.5245902</td><td>0.0000000</td><td>0.0000000</td><td>0.3472429</td><td>0.25362938</td><td>0.1833333</td><td>YES</td></tr>\n",
       "\t<tr><th scope=row>4</th><td>0.05882353</td><td>0.4472362</td><td>0.5409836</td><td>0.2323232</td><td>0.1111111</td><td>0.4187779</td><td>0.03800171</td><td>0.0000000</td><td>NO </td></tr>\n",
       "\t<tr><th scope=row>5</th><td>0.00000000</td><td>0.6884422</td><td>0.3278689</td><td>0.3535354</td><td>0.1985816</td><td>0.6423249</td><td>0.94363792</td><td>0.2000000</td><td>YES</td></tr>\n",
       "\t<tr><th scope=row>6</th><td>0.29411765</td><td>0.5829146</td><td>0.6065574</td><td>0.0000000</td><td>0.0000000</td><td>0.3815201</td><td>0.05251921</td><td>0.1500000</td><td>NO </td></tr>\n",
       "</tbody>\n",
       "</table>\n"
      ],
      "text/latex": [
       "A data.frame: 6 × 9\n",
       "\\begin{tabular}{r|lllllllll}\n",
       "  & Pregnancies & Glucose & BloodPressure & SkinThickness & Insulin & BMI & DiabetesPedigreeFunction & Age & Outcome\\\\\n",
       "  & <dbl> & <dbl> & <dbl> & <dbl> & <dbl> & <dbl> & <dbl> & <dbl> & <fct>\\\\\n",
       "\\hline\n",
       "\t1 & 0.35294118 & 0.7437186 & 0.5901639 & 0.3535354 & 0.0000000 & 0.5007452 & 0.23441503 & 0.4833333 & YES\\\\\n",
       "\t2 & 0.05882353 & 0.4271357 & 0.5409836 & 0.2929293 & 0.0000000 & 0.3964232 & 0.11656704 & 0.1666667 & NO \\\\\n",
       "\t3 & 0.47058824 & 0.9195980 & 0.5245902 & 0.0000000 & 0.0000000 & 0.3472429 & 0.25362938 & 0.1833333 & YES\\\\\n",
       "\t4 & 0.05882353 & 0.4472362 & 0.5409836 & 0.2323232 & 0.1111111 & 0.4187779 & 0.03800171 & 0.0000000 & NO \\\\\n",
       "\t5 & 0.00000000 & 0.6884422 & 0.3278689 & 0.3535354 & 0.1985816 & 0.6423249 & 0.94363792 & 0.2000000 & YES\\\\\n",
       "\t6 & 0.29411765 & 0.5829146 & 0.6065574 & 0.0000000 & 0.0000000 & 0.3815201 & 0.05251921 & 0.1500000 & NO \\\\\n",
       "\\end{tabular}\n"
      ],
      "text/markdown": [
       "\n",
       "A data.frame: 6 × 9\n",
       "\n",
       "| <!--/--> | Pregnancies &lt;dbl&gt; | Glucose &lt;dbl&gt; | BloodPressure &lt;dbl&gt; | SkinThickness &lt;dbl&gt; | Insulin &lt;dbl&gt; | BMI &lt;dbl&gt; | DiabetesPedigreeFunction &lt;dbl&gt; | Age &lt;dbl&gt; | Outcome &lt;fct&gt; |\n",
       "|---|---|---|---|---|---|---|---|---|---|\n",
       "| 1 | 0.35294118 | 0.7437186 | 0.5901639 | 0.3535354 | 0.0000000 | 0.5007452 | 0.23441503 | 0.4833333 | YES |\n",
       "| 2 | 0.05882353 | 0.4271357 | 0.5409836 | 0.2929293 | 0.0000000 | 0.3964232 | 0.11656704 | 0.1666667 | NO  |\n",
       "| 3 | 0.47058824 | 0.9195980 | 0.5245902 | 0.0000000 | 0.0000000 | 0.3472429 | 0.25362938 | 0.1833333 | YES |\n",
       "| 4 | 0.05882353 | 0.4472362 | 0.5409836 | 0.2323232 | 0.1111111 | 0.4187779 | 0.03800171 | 0.0000000 | NO  |\n",
       "| 5 | 0.00000000 | 0.6884422 | 0.3278689 | 0.3535354 | 0.1985816 | 0.6423249 | 0.94363792 | 0.2000000 | YES |\n",
       "| 6 | 0.29411765 | 0.5829146 | 0.6065574 | 0.0000000 | 0.0000000 | 0.3815201 | 0.05251921 | 0.1500000 | NO  |\n",
       "\n"
      ],
      "text/plain": [
       "  Pregnancies Glucose   BloodPressure SkinThickness Insulin   BMI      \n",
       "1 0.35294118  0.7437186 0.5901639     0.3535354     0.0000000 0.5007452\n",
       "2 0.05882353  0.4271357 0.5409836     0.2929293     0.0000000 0.3964232\n",
       "3 0.47058824  0.9195980 0.5245902     0.0000000     0.0000000 0.3472429\n",
       "4 0.05882353  0.4472362 0.5409836     0.2323232     0.1111111 0.4187779\n",
       "5 0.00000000  0.6884422 0.3278689     0.3535354     0.1985816 0.6423249\n",
       "6 0.29411765  0.5829146 0.6065574     0.0000000     0.0000000 0.3815201\n",
       "  DiabetesPedigreeFunction Age       Outcome\n",
       "1 0.23441503               0.4833333 YES    \n",
       "2 0.11656704               0.1666667 NO     \n",
       "3 0.25362938               0.1833333 YES    \n",
       "4 0.03800171               0.0000000 NO     \n",
       "5 0.94363792               0.2000000 YES    \n",
       "6 0.05251921               0.1500000 NO     "
      ]
     },
     "metadata": {},
     "output_type": "display_data"
    }
   ],
   "source": [
    "head(train_data)"
   ]
  },
  {
   "cell_type": "code",
   "execution_count": 42,
   "metadata": {},
   "outputs": [
    {
     "data": {
      "text/plain": [
       "\n",
       "       NO       YES \n",
       "0.6510417 0.3489583 "
      ]
     },
     "metadata": {},
     "output_type": "display_data"
    }
   ],
   "source": [
    "prop.table(table(train_data$Outcome))"
   ]
  },
  {
   "cell_type": "code",
   "execution_count": 58,
   "metadata": {},
   "outputs": [],
   "source": [
    "library(corrplot)\n",
    "library(ggplot2)"
   ]
  },
  {
   "cell_type": "code",
   "execution_count": 64,
   "metadata": {},
   "outputs": [
    {
     "data": {
      "text/html": [
       "<table class=\"dataframe\">\n",
       "<caption>A matrix: 8 × 8 of type dbl</caption>\n",
       "<thead>\n",
       "\t<tr><th></th><th scope=col>Pregnancies</th><th scope=col>Glucose</th><th scope=col>BloodPressure</th><th scope=col>SkinThickness</th><th scope=col>Insulin</th><th scope=col>BMI</th><th scope=col>DiabetesPedigreeFunction</th><th scope=col>Age</th></tr>\n",
       "</thead>\n",
       "<tbody>\n",
       "\t<tr><th scope=row>Pregnancies</th><td> 1.00000000</td><td>0.12945867</td><td>0.14128198</td><td>-0.08167177</td><td>-0.07353461</td><td>0.01768309</td><td>-0.03352267</td><td> 0.54434123</td></tr>\n",
       "\t<tr><th scope=row>Glucose</th><td> 0.12945867</td><td>1.00000000</td><td>0.15258959</td><td> 0.05732789</td><td> 0.33135711</td><td>0.22107107</td><td> 0.13733730</td><td> 0.26351432</td></tr>\n",
       "\t<tr><th scope=row>BloodPressure</th><td> 0.14128198</td><td>0.15258959</td><td>1.00000000</td><td> 0.20737054</td><td> 0.08893338</td><td>0.28180529</td><td> 0.04126495</td><td> 0.23952795</td></tr>\n",
       "\t<tr><th scope=row>SkinThickness</th><td>-0.08167177</td><td>0.05732789</td><td>0.20737054</td><td> 1.00000000</td><td> 0.43678257</td><td>0.39257320</td><td> 0.18392757</td><td>-0.11397026</td></tr>\n",
       "\t<tr><th scope=row>Insulin</th><td>-0.07353461</td><td>0.33135711</td><td>0.08893338</td><td> 0.43678257</td><td> 1.00000000</td><td>0.19785906</td><td> 0.18507093</td><td>-0.04216295</td></tr>\n",
       "\t<tr><th scope=row>BMI</th><td> 0.01768309</td><td>0.22107107</td><td>0.28180529</td><td> 0.39257320</td><td> 0.19785906</td><td>1.00000000</td><td> 0.14064695</td><td> 0.03624187</td></tr>\n",
       "\t<tr><th scope=row>DiabetesPedigreeFunction</th><td>-0.03352267</td><td>0.13733730</td><td>0.04126495</td><td> 0.18392757</td><td> 0.18507093</td><td>0.14064695</td><td> 1.00000000</td><td> 0.03356131</td></tr>\n",
       "\t<tr><th scope=row>Age</th><td> 0.54434123</td><td>0.26351432</td><td>0.23952795</td><td>-0.11397026</td><td>-0.04216295</td><td>0.03624187</td><td> 0.03356131</td><td> 1.00000000</td></tr>\n",
       "</tbody>\n",
       "</table>\n"
      ],
      "text/latex": [
       "A matrix: 8 × 8 of type dbl\n",
       "\\begin{tabular}{r|llllllll}\n",
       "  & Pregnancies & Glucose & BloodPressure & SkinThickness & Insulin & BMI & DiabetesPedigreeFunction & Age\\\\\n",
       "\\hline\n",
       "\tPregnancies &  1.00000000 & 0.12945867 & 0.14128198 & -0.08167177 & -0.07353461 & 0.01768309 & -0.03352267 &  0.54434123\\\\\n",
       "\tGlucose &  0.12945867 & 1.00000000 & 0.15258959 &  0.05732789 &  0.33135711 & 0.22107107 &  0.13733730 &  0.26351432\\\\\n",
       "\tBloodPressure &  0.14128198 & 0.15258959 & 1.00000000 &  0.20737054 &  0.08893338 & 0.28180529 &  0.04126495 &  0.23952795\\\\\n",
       "\tSkinThickness & -0.08167177 & 0.05732789 & 0.20737054 &  1.00000000 &  0.43678257 & 0.39257320 &  0.18392757 & -0.11397026\\\\\n",
       "\tInsulin & -0.07353461 & 0.33135711 & 0.08893338 &  0.43678257 &  1.00000000 & 0.19785906 &  0.18507093 & -0.04216295\\\\\n",
       "\tBMI &  0.01768309 & 0.22107107 & 0.28180529 &  0.39257320 &  0.19785906 & 1.00000000 &  0.14064695 &  0.03624187\\\\\n",
       "\tDiabetesPedigreeFunction & -0.03352267 & 0.13733730 & 0.04126495 &  0.18392757 &  0.18507093 & 0.14064695 &  1.00000000 &  0.03356131\\\\\n",
       "\tAge &  0.54434123 & 0.26351432 & 0.23952795 & -0.11397026 & -0.04216295 & 0.03624187 &  0.03356131 &  1.00000000\\\\\n",
       "\\end{tabular}\n"
      ],
      "text/markdown": [
       "\n",
       "A matrix: 8 × 8 of type dbl\n",
       "\n",
       "| <!--/--> | Pregnancies | Glucose | BloodPressure | SkinThickness | Insulin | BMI | DiabetesPedigreeFunction | Age |\n",
       "|---|---|---|---|---|---|---|---|---|\n",
       "| Pregnancies |  1.00000000 | 0.12945867 | 0.14128198 | -0.08167177 | -0.07353461 | 0.01768309 | -0.03352267 |  0.54434123 |\n",
       "| Glucose |  0.12945867 | 1.00000000 | 0.15258959 |  0.05732789 |  0.33135711 | 0.22107107 |  0.13733730 |  0.26351432 |\n",
       "| BloodPressure |  0.14128198 | 0.15258959 | 1.00000000 |  0.20737054 |  0.08893338 | 0.28180529 |  0.04126495 |  0.23952795 |\n",
       "| SkinThickness | -0.08167177 | 0.05732789 | 0.20737054 |  1.00000000 |  0.43678257 | 0.39257320 |  0.18392757 | -0.11397026 |\n",
       "| Insulin | -0.07353461 | 0.33135711 | 0.08893338 |  0.43678257 |  1.00000000 | 0.19785906 |  0.18507093 | -0.04216295 |\n",
       "| BMI |  0.01768309 | 0.22107107 | 0.28180529 |  0.39257320 |  0.19785906 | 1.00000000 |  0.14064695 |  0.03624187 |\n",
       "| DiabetesPedigreeFunction | -0.03352267 | 0.13733730 | 0.04126495 |  0.18392757 |  0.18507093 | 0.14064695 |  1.00000000 |  0.03356131 |\n",
       "| Age |  0.54434123 | 0.26351432 | 0.23952795 | -0.11397026 | -0.04216295 | 0.03624187 |  0.03356131 |  1.00000000 |\n",
       "\n"
      ],
      "text/plain": [
       "                         Pregnancies Glucose    BloodPressure SkinThickness\n",
       "Pregnancies               1.00000000 0.12945867 0.14128198    -0.08167177  \n",
       "Glucose                   0.12945867 1.00000000 0.15258959     0.05732789  \n",
       "BloodPressure             0.14128198 0.15258959 1.00000000     0.20737054  \n",
       "SkinThickness            -0.08167177 0.05732789 0.20737054     1.00000000  \n",
       "Insulin                  -0.07353461 0.33135711 0.08893338     0.43678257  \n",
       "BMI                       0.01768309 0.22107107 0.28180529     0.39257320  \n",
       "DiabetesPedigreeFunction -0.03352267 0.13733730 0.04126495     0.18392757  \n",
       "Age                       0.54434123 0.26351432 0.23952795    -0.11397026  \n",
       "                         Insulin     BMI        DiabetesPedigreeFunction\n",
       "Pregnancies              -0.07353461 0.01768309 -0.03352267             \n",
       "Glucose                   0.33135711 0.22107107  0.13733730             \n",
       "BloodPressure             0.08893338 0.28180529  0.04126495             \n",
       "SkinThickness             0.43678257 0.39257320  0.18392757             \n",
       "Insulin                   1.00000000 0.19785906  0.18507093             \n",
       "BMI                       0.19785906 1.00000000  0.14064695             \n",
       "DiabetesPedigreeFunction  0.18507093 0.14064695  1.00000000             \n",
       "Age                      -0.04216295 0.03624187  0.03356131             \n",
       "                         Age        \n",
       "Pregnancies               0.54434123\n",
       "Glucose                   0.26351432\n",
       "BloodPressure             0.23952795\n",
       "SkinThickness            -0.11397026\n",
       "Insulin                  -0.04216295\n",
       "BMI                       0.03624187\n",
       "DiabetesPedigreeFunction  0.03356131\n",
       "Age                       1.00000000"
      ]
     },
     "metadata": {},
     "output_type": "display_data"
    },
    {
     "data": {
      "image/png": "[encoded data removed]",
      "text/plain": [
       "Plot with title \"\""
      ]
     },
     "metadata": {
      "image/png": {
       "height": 420,
       "width": 420
      }
     },
     "output_type": "display_data"
    }
   ],
   "source": [
    "cor_data <- cor(train_data[,1:8])\n",
    "cor_data\n",
    "corrplot(cor_data,method='square',type='upper')"
   ]
  },
  {
   "cell_type": "code",
   "execution_count": 70,
   "metadata": {},
   "outputs": [],
   "source": [
    "# Fit Control\n",
    "fit_control = trainControl(\n",
    "    method = 'cv',   # k-fold cross validation\n",
    "    number = 5,    # number of folds\n",
    "    savePredictions = 'final',  #save predictions for optimal tuning parameter\n",
    "    classProbs = T,  # class probability\n",
    "    summaryFunction=twoClassSummary # result summary function\n",
    "    \n",
    ")"
   ]
  },
  {
   "cell_type": "code",
   "execution_count": 71,
   "metadata": {},
   "outputs": [
    {
     "name": "stderr",
     "output_type": "stream",
     "text": [
      "Warning message in train.default(x, y, weights = w, ...):\n",
      "\"The metric \"Accuracy\" was not in the result set. ROC will be used instead.\"\n",
      "Warning message in train.default(x, y, weights = w, ...):\n",
      "\"The metric \"Accuracy\" was not in the result set. ROC will be used instead.\"\n",
      "Warning message in train.default(x, y, weights = w, ...):\n",
      "\"The metric \"Accuracy\" was not in the result set. ROC will be used instead.\"\n"
     ]
    }
   ],
   "source": [
    "model_knn = train(Outcome ~ .,data=train_data,method='knn',tuneLength = 2,trControl = fit_control) # KNN model\n",
    "model_svm = train(Outcome ~ .,data=train_data,method='svmRadial',tuneLength = 2,trControl = fit_control) # SVM model\n",
    "model_rand = train(Outcome ~ .,data=train_data,method='rpart',tuneLength = 2,trControl = fit_control) # RandomForest model\n"
   ]
  },
  {
   "cell_type": "code",
   "execution_count": 72,
   "metadata": {},
   "outputs": [
    {
     "data": {
      "text/plain": [
       "\n",
       "Call:\n",
       "summary.resamples(object = model_compare)\n",
       "\n",
       "Models: KNN, SVM, RandomForest \n",
       "Number of resamples: 5 \n",
       "\n",
       "ROC \n",
       "                  Min.   1st Qu.    Median      Mean   3rd Qu.      Max. NA's\n",
       "KNN          0.7358491 0.7713889 0.7766038 0.7756202 0.7930556 0.8012037    0\n",
       "SVM          0.8007547 0.8227778 0.8290566 0.8249623 0.8331481 0.8390741    0\n",
       "RandomForest 0.6647222 0.6907547 0.6990741 0.7191932 0.7500000 0.7914151    0\n",
       "\n",
       "Sens \n",
       "             Min. 1st Qu. Median  Mean 3rd Qu. Max. NA's\n",
       "KNN          0.81    0.83   0.84 0.842    0.85 0.88    0\n",
       "SVM          0.81    0.87   0.88 0.874    0.89 0.92    0\n",
       "RandomForest 0.74    0.75   0.80 0.814    0.87 0.91    0\n",
       "\n",
       "Spec \n",
       "                  Min.   1st Qu.    Median      Mean   3rd Qu.      Max. NA's\n",
       "KNN          0.4150943 0.4814815 0.5555556 0.5221523 0.5660377 0.5925926    0\n",
       "SVM          0.4814815 0.4905660 0.5740741 0.5748428 0.6111111 0.7169811    0\n",
       "RandomForest 0.4259259 0.6226415 0.6296296 0.5935709 0.6415094 0.6481481    0\n"
      ]
     },
     "metadata": {},
     "output_type": "display_data"
    }
   ],
   "source": [
    "# Compare model performace using resamples()\n",
    "model_compare <- resamples(list(KNN=model_knn,SVM=model_svm,RandomForest=model_rand))\n",
    "\n",
    "# Summary of model's performace\n",
    "\n",
    "summary(model_compare)"
   ]
  },
  {
   "cell_type": "code",
   "execution_count": 73,
   "metadata": {},
   "outputs": [
    {
     "data": {
      "image/png": "[encoded data removed]",
      "text/plain": [
       "plot without title"
      ]
     },
     "metadata": {
      "image/png": {
       "height": 420,
       "width": 420
      }
     },
     "output_type": "display_data"
    }
   ],
   "source": [
    "scales <- list(x=list(relation=\"free\"),y=list(relation=\"free\"))\n",
    "bwplot(model_compare,scales=scales)"
   ]
  },
  {
   "cell_type": "code",
   "execution_count": null,
   "metadata": {},
   "outputs": [],
   "source": []
  }
 ],
 "metadata": {
  "kernelspec": {
   "display_name": "R",
   "language": "R",
   "name": "ir"
  },
  "language_info": {
   "codemirror_mode": "r",
   "file_extension": ".r",
   "mimetype": "text/x-r-source",
   "name": "R",
   "pygments_lexer": "r",
   "version": "4.0.5"
  }
 },
 "nbformat": 4,
 "nbformat_minor": 4
}
